{
 "cells": [
  {
   "cell_type": "markdown",
   "metadata": {},
   "source": [
    "# Make It Simple - Michele Andreata\n"
   ]
  },
  {
   "cell_type": "code",
   "execution_count": 2,
   "metadata": {},
   "outputs": [],
   "source": [
    "from spellcheck.utils import *\n",
    "from spellcheck.spellcheck import SpellCheck, SpellCheckFast"
   ]
  },
  {
   "cell_type": "code",
   "execution_count": 25,
   "metadata": {},
   "outputs": [],
   "source": [
    "test_set_wiki = import_test_set(\n",
    "    \"spellcheck/data/test/list_of_common_misspellings.txt\")\n",
    "test_set_toefl = import_test_set(\"spellcheck/data/test/toefl-spell.txt\")\n",
    "test_set_aspell = import_test_set(\"spellcheck/data/test/aspell-test.txt\")"
   ]
  },
  {
   "cell_type": "code",
   "execution_count": 95,
   "metadata": {},
   "outputs": [
    {
     "name": "stdout",
     "output_type": "stream",
     "text": [
      "SpellCheck:\n",
      "wiki:         48% of 4017 correct (5% unknown) at 52 words per second \n",
      "toefl:        35% of 6232 correct (13% unknown) at 47 words per second \n",
      "aspell:       26% of 547 correct (7% unknown) at 19 words per second \n",
      "SpellCheckFast w/ correct:\n",
      "wiki:         48% of 4017 correct (5% unknown) at 2500 words per second \n",
      "toefl:        35% of 6232 correct (13% unknown) at 3239 words per second \n",
      "aspell:       25% of 547 correct (7% unknown) at 3108 words per second \n"
     ]
    }
   ],
   "source": [
    "max_edit_distance = 2\n",
    "\n",
    "words_path = \"spellcheck/data/train/count_1w.txt\"\n",
    "bigrams_path = \"spellcheck/data/train/count_2w.txt\"\n",
    "\n",
    "spell_check = SpellCheck(words_path)\n",
    "spell_check_fast = SpellCheckFast(\n",
    "    words_path, bigrams_path, max_dictionary_edit_distance=max_edit_distance, prefix_length=7)\n",
    "\n",
    "print(\"SpellCheck:\")\n",
    "spelltest(test_set_wiki, \"wiki\", spell_check.correct, spell_check._words)\n",
    "spelltest(test_set_toefl, \"toefl\", spell_check.correct, spell_check._words)\n",
    "spelltest(test_set_aspell, \"aspell\", spell_check.correct, spell_check._words)\n",
    "print(\"SpellCheckFast w/ correct:\")\n",
    "spelltest(test_set_wiki, \"wiki\", spell_check_fast.correct,\n",
    "          spell_check_fast._words)\n",
    "spelltest(test_set_toefl, \"toefl\",\n",
    "          spell_check_fast.correct, spell_check_fast._words)\n",
    "spelltest(test_set_aspell, \"aspell\",\n",
    "          spell_check_fast.correct, spell_check_fast._words)"
   ]
  },
  {
   "cell_type": "code",
   "execution_count": 94,
   "metadata": {},
   "outputs": [
    {
     "name": "stdout",
     "output_type": "stream",
     "text": [
      "SpellCheckFast w/ correct:\n",
      "wiki:         69% of 4017 correct (8% unknown) at 4709 words per second \n",
      "toefl:        52% of 6232 correct (13% unknown) at 5038 words per second \n",
      "aspell:       40% of 547 correct (10% unknown) at 4911 words per second \n"
     ]
    }
   ],
   "source": [
    "max_edit_distance = 2\n",
    "\n",
    "words_path = \"spellcheck/data/train/count_1w_pruned.txt\"\n",
    "bigrams_path = \"spellcheck/data/train/count_2w.txt\"\n",
    "\n",
    "spell_check_fast = SpellCheckFast(\n",
    "    words_path, bigrams_path, max_dictionary_edit_distance=max_edit_distance, prefix_length=7)\n",
    "\n",
    "print(\"SpellCheckFast w/ correct:\")\n",
    "spelltest(test_set_wiki, \"wiki\", spell_check_fast.correct,\n",
    "          spell_check_fast._words)\n",
    "spelltest(test_set_toefl, \"toefl\",\n",
    "          spell_check_fast.correct, spell_check_fast._words)\n",
    "spelltest(test_set_aspell, \"aspell\",\n",
    "          spell_check_fast.correct, spell_check_fast._words)"
   ]
  },
  {
   "cell_type": "code",
   "execution_count": 93,
   "metadata": {},
   "outputs": [
    {
     "name": "stdout",
     "output_type": "stream",
     "text": [
      "SpellCheckFast w/ correct:\n",
      "wiki:         80% of 4017 correct (5% unknown) at 4490 words per second \n",
      "toefl:        69% of 6232 correct (11% unknown) at 4130 words per second \n",
      "aspell:       49% of 547 correct (7% unknown) at 4588 words per second \n"
     ]
    }
   ],
   "source": [
    "max_edit_distance = 2\n",
    "\n",
    "words_path = \"spellcheck/data/train/symspell_words.txt\"\n",
    "bigrams_path = \"spellcheck/data/train/symspell_bigrams.txt\"\n",
    "\n",
    "spell_check_fast = SpellCheckFast(\n",
    "    words_path, bigrams_path, max_dictionary_edit_distance=max_edit_distance, prefix_length=7)\n",
    "\n",
    "print(\"SpellCheckFast w/ correct:\")\n",
    "spelltest(test_set_wiki, \"wiki\", spell_check_fast.correct,\n",
    "          spell_check_fast._words)\n",
    "spelltest(test_set_toefl, \"toefl\",\n",
    "          spell_check_fast.correct, spell_check_fast._words)\n",
    "spelltest(test_set_aspell, \"aspell\",\n",
    "          spell_check_fast.correct, spell_check_fast._words)"
   ]
  },
  {
   "cell_type": "code",
   "execution_count": 96,
   "metadata": {},
   "outputs": [
    {
     "name": "stdout",
     "output_type": "stream",
     "text": [
      "SpellCheckFast w/ correct:\n",
      "wiki:         80% of 4017 correct (5% unknown) at 457 words per second \n",
      "toefl:        70% of 6232 correct (11% unknown) at 519 words per second \n",
      "aspell:       52% of 547 correct (7% unknown) at 559 words per second \n"
     ]
    }
   ],
   "source": [
    "max_edit_distance = 3\n",
    "\n",
    "words_path = \"spellcheck/data/train/symspell_words.txt\"\n",
    "bigrams_path = \"spellcheck/data/train/symspell_bigrams.txt\"\n",
    "\n",
    "spell_check_fast = SpellCheckFast(\n",
    "    words_path, bigrams_path, max_dictionary_edit_distance=max_edit_distance, prefix_length=7)\n",
    "\n",
    "print(\"SpellCheckFast w/ correct:\")\n",
    "spelltest(test_set_wiki, \"wiki\", spell_check_fast.correct,\n",
    "          spell_check_fast._words)\n",
    "spelltest(test_set_toefl, \"toefl\",\n",
    "          spell_check_fast.correct, spell_check_fast._words)\n",
    "spelltest(test_set_aspell, \"aspell\",\n",
    "          spell_check_fast.correct, spell_check_fast._words)"
   ]
  },
  {
   "cell_type": "code",
   "execution_count": 92,
   "metadata": {},
   "outputs": [
    {
     "name": "stdout",
     "output_type": "stream",
     "text": [
      "Comprehensive test for SpellCheckFast w/ correct:\n",
      "wiki:         Top 1: 80%, Top 3: 90%, Top 5: 92%, DCG: 0.87\n",
      "toefl:        Top 1: 70%, Top 3: 81%, Top 5: 83%, DCG: 0.77\n",
      "aspell:       Top 1: 52%, Top 3: 68%, Top 5: 72%, DCG: 0.63\n"
     ]
    }
   ],
   "source": [
    "max_edit_distance = 3\n",
    "\n",
    "words_path = \"spellcheck/data/train/symspell_words.txt\"\n",
    "bigrams_path = \"spellcheck/data/train/symspell_bigrams.txt\"\n",
    "\n",
    "spell_check_fast = SpellCheckFast(\n",
    "    words_path, bigrams_path, max_dictionary_edit_distance=max_edit_distance, prefix_length=7)\n",
    "\n",
    "print(\"Comprehensive test for SpellCheckFast w/ correct:\")\n",
    "spelltest_comprehensive(test_set_wiki, \"wiki\", spell_check_fast)\n",
    "spelltest_comprehensive(test_set_toefl, \"toefl\", spell_check_fast)\n",
    "spelltest_comprehensive(test_set_aspell, \"aspell\", spell_check_fast)"
   ]
  },
  {
   "cell_type": "code",
   "execution_count": 161,
   "metadata": {},
   "outputs": [],
   "source": [
    "with open(\"spellcheck/data/test/Frankenstein_by_Mary_Shelley.txt\", \"r\") as file:\n",
    "    frankenstein = file.read()\n",
    "\n",
    "frankenstein = re.sub(r'\\n+', ' ', frankenstein)\n",
    "frankenstein = re.sub(r'\\\\', ' ', frankenstein)\n",
    "frankenstein = re.sub(r' +', ' ', frankenstein)\n",
    "frankenstein_sentences = re.split(r'(?<=[.!?,;]) +', frankenstein)\n",
    "frankenstein_sentences_norm = map(lambda s: re.sub(\n",
    "    r'[^a-zA-Z0-9 ]+', \"\", s.lower().strip()), frankenstein_sentences)\n",
    "frankenstein_sentences_norm = filter(lambda s: len(\n",
    "    tokens(s)) > 1 and len(tokens(s)) < 50, frankenstein_sentences_norm)\n",
    "\n",
    "with open(\"spellcheck/data/test/frankenstein.txt\", \"w\") as f:\n",
    "    f.write(\"\\n\".join(frankenstein_sentences_norm))"
   ]
  },
  {
   "cell_type": "code",
   "execution_count": 7,
   "metadata": {},
   "outputs": [],
   "source": [
    "with open(\"spellcheck/data/test/frankenstein.txt\", \"r\") as file:\n",
    "    frankenstein = file.readlines()"
   ]
  },
  {
   "cell_type": "code",
   "execution_count": null,
   "metadata": {},
   "outputs": [],
   "source": [
    "frankenstein_w_errors = list(\n",
    "    map(lambda s: (add_spelling_errors(s, 0.1), s), frankenstein))"
   ]
  },
  {
   "cell_type": "code",
   "execution_count": 195,
   "metadata": {},
   "outputs": [
    {
     "name": "stderr",
     "output_type": "stream",
     "text": [
      "100%|██████████| 8380/8380 [00:06<00:00, 1201.19it/s]\n"
     ]
    },
    {
     "name": "stdout",
     "output_type": "stream",
     "text": [
      "SpellCheckFast monogram data: 82.0 %\n"
     ]
    },
    {
     "name": "stderr",
     "output_type": "stream",
     "text": [
      "100%|██████████| 8380/8380 [00:07<00:00, 1110.57it/s]"
     ]
    },
    {
     "name": "stdout",
     "output_type": "stream",
     "text": [
      "SpellCheckFast bigram data: 83.0 %\n"
     ]
    },
    {
     "name": "stderr",
     "output_type": "stream",
     "text": [
      "\n"
     ]
    }
   ],
   "source": [
    "max_edit_distance = 2\n",
    "\n",
    "words_path = \"spellcheck/data/train/symspell_words.txt\"\n",
    "bigrams_path = \"spellcheck/data/train/symspell_bigrams.txt\"\n",
    "\n",
    "spell_check_fast = SpellCheckFast(\n",
    "    words_path, bigrams_path, max_dictionary_edit_distance=max_edit_distance, prefix_length=7)\n",
    "\n",
    "result = test_sentence_correction(spell_check_fast.correct_text_simple,\n",
    "                                  frankenstein_w_errors, False)\n",
    "print(\"SpellCheckFast monogram data:\", round(result*100, 2), \"%\")\n",
    "\n",
    "result = test_sentence_correction(spell_check_fast.correct_text,\n",
    "                                  frankenstein_w_errors, False)\n",
    "print(\"SpellCheckFast bigram data:\", round(result*100, 2), \"%\")"
   ]
  },
  {
   "cell_type": "code",
   "execution_count": 197,
   "metadata": {},
   "outputs": [
    {
     "name": "stderr",
     "output_type": "stream",
     "text": [
      "100%|██████████| 8380/8380 [00:58<00:00, 143.48it/s]\n"
     ]
    },
    {
     "name": "stdout",
     "output_type": "stream",
     "text": [
      "SpellCheckFast monogram data: 82.0 %\n"
     ]
    },
    {
     "name": "stderr",
     "output_type": "stream",
     "text": [
      "100%|██████████| 8380/8380 [00:57<00:00, 144.83it/s]"
     ]
    },
    {
     "name": "stdout",
     "output_type": "stream",
     "text": [
      "SpellCheckFast bigram data: 83.0 %\n"
     ]
    },
    {
     "name": "stderr",
     "output_type": "stream",
     "text": [
      "\n"
     ]
    }
   ],
   "source": [
    "max_edit_distance = 3\n",
    "\n",
    "words_path = \"spellcheck/data/train/symspell_words.txt\"\n",
    "bigrams_path = \"spellcheck/data/train/symspell_bigrams.txt\"\n",
    "\n",
    "spell_check_fast = SpellCheckFast(\n",
    "    words_path, bigrams_path, max_dictionary_edit_distance=max_edit_distance, prefix_length=7)\n",
    "\n",
    "result = test_sentence_correction(spell_check_fast.correct_text_simple,\n",
    "                                  frankenstein_w_errors, False)\n",
    "print(\"SpellCheckFast monogram data:\", round(result*100, 2), \"%\")\n",
    "\n",
    "result = test_sentence_correction(spell_check_fast.correct_text,\n",
    "                                  frankenstein_w_errors, False)\n",
    "print(\"SpellCheckFast bigram data:\", round(result*100, 2), \"%\")"
   ]
  },
  {
   "cell_type": "code",
   "execution_count": 4,
   "metadata": {},
   "outputs": [],
   "source": [
    "max_edit_distance = 2\n",
    "\n",
    "words_path = \"spellcheck/data/train/symspell_words.txt\"\n",
    "bigrams_path = \"spellcheck/data/train/symspell_bigrams.txt\"\n",
    "\n",
    "spell_check_fast = SpellCheckFast(\n",
    "    words_path, bigrams_path, max_dictionary_edit_distance=max_edit_distance, prefix_length=7)"
   ]
  },
  {
   "cell_type": "code",
   "execution_count": 8,
   "metadata": {},
   "outputs": [
    {
     "name": "stderr",
     "output_type": "stream",
     "text": [
      "100%|██████████| 8380/8380 [04:06<00:00, 34.03it/s] "
     ]
    },
    {
     "name": "stdout",
     "output_type": "stream",
     "text": [
      "SpellCheckFast segmenter: 90.7 %\n"
     ]
    },
    {
     "name": "stderr",
     "output_type": "stream",
     "text": [
      "\n"
     ]
    }
   ],
   "source": [
    "result = test_segmenter(lambda s: spell_check_fast.segment(s)[1], frankenstein)\n",
    "print(\"SpellCheckFast segmenter:\", round(result*100, 2), \"%\")"
   ]
  },
  {
   "cell_type": "code",
   "execution_count": 9,
   "metadata": {},
   "outputs": [
    {
     "data": {
      "text/plain": [
       "CacheInfo(hits=66942089, misses=4822020, maxsize=None, currsize=4822020)"
      ]
     },
     "execution_count": 9,
     "metadata": {},
     "output_type": "execute_result"
    }
   ],
   "source": [
    "spell_check_fast.segment.cache_info()"
   ]
  }
 ],
 "metadata": {
  "kernelspec": {
   "display_name": "Python 3",
   "language": "python",
   "name": "python3"
  },
  "language_info": {
   "codemirror_mode": {
    "name": "ipython",
    "version": 3
   },
   "file_extension": ".py",
   "mimetype": "text/x-python",
   "name": "python",
   "nbconvert_exporter": "python",
   "pygments_lexer": "ipython3",
   "version": "3.12.1"
  }
 },
 "nbformat": 4,
 "nbformat_minor": 2
}
