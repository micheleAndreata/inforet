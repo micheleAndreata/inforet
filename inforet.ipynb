{
 "cells": [
  {
   "cell_type": "code",
   "execution_count": 1,
   "metadata": {},
   "outputs": [],
   "source": [
    "%load_ext autoreload\n",
    "%autoreload 2"
   ]
  },
  {
   "cell_type": "code",
   "execution_count": null,
   "metadata": {},
   "outputs": [],
   "source": [
    "from spellcheck.utils import *"
   ]
  },
  {
   "cell_type": "code",
   "execution_count": 340,
   "metadata": {},
   "outputs": [],
   "source": [
    "from spellcheck.utils import tokens\n",
    "\n",
    "proverbs = (\"\"\"A little knowledge is a dangerous thing\n",
    "  A man who is his own lawyer has a fool for his client\n",
    "  All work and no play makes Jack a dull boy\n",
    "  Better to remain silent and be thought a fool that to speak and remove all doubt;\n",
    "  Do unto others as you would have them do to you\n",
    "  Early to bed and early to rise, makes a man healthy, wealthy and wise\n",
    "  Fools rush in where angels fear to tread\n",
    "  Genius is one percent inspiration, ninety-nine percent perspiration\n",
    "  If you lie down with dogs, you will get up with fleas\n",
    "  Lightning never strikes twice in the same place\n",
    "  Power corrupts; absolute power corrupts absolutely\n",
    "  Here today, gone tomorrow\n",
    "  See no evil, hear no evil, speak no evil\n",
    "  Sticks and stones may break my bones, but words will never hurt me\n",
    "  Take care of the pence and the pounds will take care of themselves\n",
    "  The bigger they are, the harder they fall\n",
    "  The grass is always greener on the other side of the fence\n",
    "  The more things change, the more they stay the same\n",
    "  Those who do not learn from history are doomed to repeat it\"\"\"\n",
    "  .splitlines())\n",
    "\n",
    "proverbs = list(map(lambda s: \" \".join(tokens(s)), proverbs))"
   ]
  },
  {
   "cell_type": "code",
   "execution_count": 365,
   "metadata": {},
   "outputs": [],
   "source": [
    "max_edit_distance = 2"
   ]
  },
  {
   "cell_type": "code",
   "execution_count": 409,
   "metadata": {},
   "outputs": [],
   "source": [
    "from spellcheck.spellcheck import SpellCheck, SpellCheckFast\n",
    "\n",
    "words_path = \"spellcheck/data/train/symspellpy_words.txt\"\n",
    "bigrams_path = \"spellcheck/data/train/symspellpy_bigrams.txt\"\n",
    "#spell_check = SpellCheck(words_path)\n",
    "spell_check_fast = SpellCheckFast(words_path, bigrams_path, max_dictionary_edit_distance=max_edit_distance, prefix_length=7)"
   ]
  },
  {
   "cell_type": "code",
   "execution_count": 378,
   "metadata": {},
   "outputs": [],
   "source": [
    "from symspellpy import SymSpell, Verbosity\n",
    "\n",
    "sym_spell = SymSpell(max_dictionary_edit_distance=max_edit_distance, prefix_length=7)\n",
    "sym_spell.load_dictionary(\"spellcheck/data/train/symspellpy_words.txt\", term_index=0, count_index=1, separator='\\t')\n",
    "sym_spell.load_bigram_dictionary(\"spellcheck/data/train/symspellpy_bigrams.txt\", term_index=0, count_index=1, separator='\\t')\n",
    "\n",
    "def sym_spell_correct(word):\n",
    "    suggestions = sym_spell.lookup(word, Verbosity.TOP, include_unknown=True)\n",
    "    return suggestions[0].term\n",
    "\n",
    "def sym_spell_correct_compound(word):\n",
    "    suggestions = sym_spell.lookup_compound(word, max_edit_distance)\n",
    "    return suggestions[0].term\n"
   ]
  },
  {
   "cell_type": "code",
   "execution_count": 359,
   "metadata": {},
   "outputs": [],
   "source": [
    "test_set_wiki = import_test_set(\"spellcheck/data/test/list_of_common_misspellings.txt\")\n",
    "test_set_toefl = import_test_set(\"spellcheck/data/test/toefl-spell.txt\")\n",
    "test_set_aspell = import_test_set(\"spellcheck/data/test/aspell-test.txt\")"
   ]
  },
  {
   "cell_type": "code",
   "execution_count": 410,
   "metadata": {},
   "outputs": [
    {
     "name": "stdout",
     "output_type": "stream",
     "text": [
      "SpellCheckFast w/ correct:\n",
      "82% of 4017 correct (4% unknown) at 3316 words per second \n",
      "72% of 6232 correct (8% unknown) at 5385 words per second \n",
      "50% of 547 correct (6% unknown) at 5954 words per second \n",
      "SpellCheckFast w/ correct_text_best:\n",
      "82% of 4017 correct (3% unknown) at 1604 words per second \n",
      "76% of 6232 correct (4% unknown) at 2719 words per second \n",
      "51% of 547 correct (5% unknown) at 802 words per second \n",
      "SymSpell w/ lookup:\n",
      "82% of 4017 correct (4% unknown) at 19644 words per second \n",
      "72% of 6232 correct (8% unknown) at 14935 words per second \n",
      "50% of 547 correct (6% unknown) at 12569 words per second \n",
      "SymSpell w/ lookup_compound:\n",
      "80% of 4017 correct (3% unknown) at 677 words per second \n",
      "74% of 6232 correct (3% unknown) at 744 words per second \n",
      "49% of 547 correct (4% unknown) at 820 words per second \n"
     ]
    }
   ],
   "source": [
    "# print(\"SpellCheck:\")\n",
    "# spelltest(test_set, spell_check.correct, spell_check._words)\n",
    "print(\"SpellCheckFast w/ correct:\")\n",
    "spelltest(test_set_wiki, spell_check_fast.correct, spell_check_fast._words)\n",
    "spelltest(test_set_toefl, spell_check_fast.correct, spell_check_fast._words)\n",
    "spelltest(test_set_aspell, spell_check_fast.correct, spell_check_fast._words)\n",
    "print(\"SpellCheckFast w/ correct_text_best:\")\n",
    "spelltest(test_set_wiki, spell_check_fast.correct_text_best, spell_check_fast._words)\n",
    "spelltest(test_set_toefl, spell_check_fast.correct_text_best, spell_check_fast._words)\n",
    "spelltest(test_set_aspell, spell_check_fast.correct_text_best, spell_check_fast._words)\n",
    "print(\"SymSpell w/ lookup:\")\n",
    "spelltest(test_set_wiki, sym_spell_correct, sym_spell.words)\n",
    "spelltest(test_set_toefl, sym_spell_correct, sym_spell.words)\n",
    "spelltest(test_set_aspell, sym_spell_correct, spell_check_fast._words)\n",
    "print(\"SymSpell w/ lookup_compound:\")\n",
    "spelltest(test_set_wiki, sym_spell_correct_compound, sym_spell.words)\n",
    "spelltest(test_set_toefl, sym_spell_correct_compound, sym_spell.words)\n",
    "spelltest(test_set_aspell, sym_spell_correct_compound, spell_check_fast._words)"
   ]
  },
  {
   "cell_type": "code",
   "execution_count": 425,
   "metadata": {},
   "outputs": [],
   "source": [
    "proverbs_w_errors = list(map(lambda s: (add_spelling_errors(s, 0.2, segment=True), s), proverbs))"
   ]
  },
  {
   "cell_type": "code",
   "execution_count": 427,
   "metadata": {},
   "outputs": [
    {
     "name": "stdout",
     "output_type": "stream",
     "text": [
      "SpellCheckFast dumb:\t85.71\n",
      "SpellCheckFast:\t\t86.95\n",
      "SpellCheckFast better:\t87.17\n",
      "SpellCheckFast best:\t87.18\n",
      "Symspellpy lookup:\t88.71\n",
      "Symspellpy segment:\t88.68\n"
     ]
    }
   ],
   "source": [
    "print(\"SpellCheckFast dumb:\", end=\"\\t\")\n",
    "print(test_sentence_correction(spell_check_fast.correct_text_dumb, proverbs_w_errors, False))\n",
    "print(\"SpellCheckFast:\", end=\"\\t\\t\")\n",
    "print(test_sentence_correction(spell_check_fast.correct_text, proverbs_w_errors, False))\n",
    "print(\"SpellCheckFast better:\", end=\"\\t\")\n",
    "print(test_sentence_correction(spell_check_fast.correct_text_better, proverbs_w_errors, False))\n",
    "print(\"SpellCheckFast best:\", end=\"\\t\")\n",
    "print(test_sentence_correction(spell_check_fast.correct_text_best, proverbs_w_errors, False))\n",
    "print(\"Symspellpy lookup:\", end=\"\\t\")\n",
    "print(test_sentence_correction(lambda p: sym_spell.lookup_compound(p, 2)[0].term, proverbs_w_errors, False))\n",
    "print(\"Symspellpy segment:\", end=\"\\t\")\n",
    "print(test_sentence_correction(lambda p: sym_spell.word_segmentation(p, 2).corrected_string, proverbs_w_errors, False))"
   ]
  }
 ],
 "metadata": {
  "kernelspec": {
   "display_name": "Python 3",
   "language": "python",
   "name": "python3"
  },
  "language_info": {
   "codemirror_mode": {
    "name": "ipython",
    "version": 3
   },
   "file_extension": ".py",
   "mimetype": "text/x-python",
   "name": "python",
   "nbconvert_exporter": "python",
   "pygments_lexer": "ipython3",
   "version": "3.12.1"
  }
 },
 "nbformat": 4,
 "nbformat_minor": 2
}
